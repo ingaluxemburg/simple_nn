{
 "cells": [
  {
   "cell_type": "markdown",
   "metadata": {},
   "source": [
    "## Курсовая работа \"Нейрообнаружитель радиолокационных гармонических сигналов\".\n",
    "\n",
    "### Выполнила студентка 631 группы Очнева Инга.\n"
   ]
  },
  {
   "cell_type": "markdown",
   "metadata": {},
   "source": [
    "На интервале Т=10 с должен быть обнаружен сигнал u(t)=Asin(Wt+f). Параметры сигнала могут варьироваться в пределах ±30% от номинальных значений: A_ном, W_ном=$0,2\\pi$ рад/с (Период 10 с), f_ном с равновероятным распределением.\n",
    "\n",
    "Обрабатываемый сигнал:\n",
    "\n",
    "\\begin{equation*}\n",
    "s(t) = \n",
    " \\begin{cases}\n",
    "   Asin(Wt + f) + \\xi(t) &\\text{когда есть сигнал u(t)}\\\\\n",
    "   \\xi(t) &\\text{иначе}\n",
    " \\end{cases}\n",
    "\\end{equation*}\n",
    "\n",
    "где $\\xi(t)$ – белый гауссов шум с дисперсией disp.\n",
    "\n",
    "Обрабатываемый сигнал является выборкой сигнала s(t) с дискретом по времени 1 с.\n",
    "\n",
    "Числовые значения параметров сигнала Aном, fном:"
   ]
  },
  {
   "cell_type": "code",
   "execution_count": 167,
   "metadata": {},
   "outputs": [],
   "source": [
    "import numpy as np"
   ]
  },
  {
   "cell_type": "code",
   "execution_count": 168,
   "metadata": {},
   "outputs": [],
   "source": [
    "A_nom = 1\n",
    "f = 0\n",
    "disp = 0.7\n",
    "W = 0.2*np.pi\n",
    "T = 10"
   ]
  },
  {
   "cell_type": "markdown",
   "metadata": {},
   "source": [
    "#### Сгенерируем сигналы и шумы."
   ]
  },
  {
   "cell_type": "markdown",
   "metadata": {},
   "source": [
    "Будем генерировать num_of_samples строк данных:"
   ]
  },
  {
   "cell_type": "code",
   "execution_count": 169,
   "metadata": {},
   "outputs": [],
   "source": [
    "num_of_samples = 2000"
   ]
  },
  {
   "cell_type": "code",
   "execution_count": 170,
   "metadata": {},
   "outputs": [],
   "source": [
    "data_yes = [] # Заведем массив для сигналов (метка \"1\")\n",
    "y_yes = np.ones((int(num_of_samples/2), 1)) # Вектор ответов \"1\"\n",
    "data_no = [] # Аналогично для шума (метка \"0\")\n",
    "y_no = np.zeros((int(num_of_samples/2), 1)) # Вектор ответов \"0\""
   ]
  },
  {
   "cell_type": "markdown",
   "metadata": {},
   "source": [
    "Сгенерируем в цикле наши сигналы, учтя при этом разброс в 30%:"
   ]
  },
  {
   "cell_type": "code",
   "execution_count": 171,
   "metadata": {},
   "outputs": [],
   "source": [
    "import numpy.random as rn"
   ]
  },
  {
   "cell_type": "code",
   "execution_count": 172,
   "metadata": {},
   "outputs": [],
   "source": [
    "alpha = 0.3"
   ]
  },
  {
   "cell_type": "code",
   "execution_count": 173,
   "metadata": {},
   "outputs": [],
   "source": [
    "for i in range(int(num_of_samples/2)):\n",
    "    for t in range(T):\n",
    "        to_add = A_nom*np.sin(W*t+f) + A_nom*np.sin(W*t+f)*alpha*np.random.uniform(-1, 1) + np.random.normal(scale=disp)\n",
    "        data_yes.append(to_add)\n",
    "        to_add = np.random.normal(scale=disp)\n",
    "        data_no.append(to_add)"
   ]
  },
  {
   "cell_type": "code",
   "execution_count": 174,
   "metadata": {},
   "outputs": [],
   "source": [
    "data_yes = np.array(data_yes).reshape((int(num_of_samples/2), T))"
   ]
  },
  {
   "cell_type": "code",
   "execution_count": 175,
   "metadata": {},
   "outputs": [],
   "source": [
    "data_no = np.array(data_no).reshape((int(num_of_samples/2), T))"
   ]
  },
  {
   "cell_type": "code",
   "execution_count": 176,
   "metadata": {},
   "outputs": [],
   "source": [
    "import matplotlib.pyplot as plt"
   ]
  },
  {
   "cell_type": "code",
   "execution_count": 177,
   "metadata": {},
   "outputs": [
    {
     "data": {
      "image/png": "[encoded data removed]",
      "text/plain": [
       "<Figure size 576x432 with 2 Axes>"
      ]
     },
     "metadata": {
      "needs_background": "light"
     },
     "output_type": "display_data"
    }
   ],
   "source": [
    "fig, (ax1, ax2) = plt.subplots(nrows = 1, ncols = 2, figsize=(8, 6))\n",
    "ax1.plot(data_yes[7])\n",
    "ax1.set_title('Пример сигнала')\n",
    "ax2.plot(data_no[5])\n",
    "ax2.set_title('Пример шума')\n",
    "plt.show()\n"
   ]
  },
  {
   "cell_type": "markdown",
   "metadata": {},
   "source": [
    "Визуально отличить сигнал от шума невозможно. Посмотрим, сможет ли нейросеть выделить незаметную человеку зависимость."
   ]
  },
  {
   "cell_type": "markdown",
   "metadata": {},
   "source": [
    "Соберем данные в один объект (матрицу \"признаки-ответы\"), и затем разделим его на обучение и тест."
   ]
  },
  {
   "cell_type": "code",
   "execution_count": 178,
   "metadata": {},
   "outputs": [],
   "source": [
    "import pandas as pd"
   ]
  },
  {
   "cell_type": "code",
   "execution_count": 179,
   "metadata": {},
   "outputs": [],
   "source": [
    "data_yes = pd.DataFrame(data_yes)"
   ]
  },
  {
   "cell_type": "code",
   "execution_count": 180,
   "metadata": {},
   "outputs": [],
   "source": [
    "data_no = pd.DataFrame(data_no)"
   ]
  },
  {
   "cell_type": "code",
   "execution_count": 181,
   "metadata": {},
   "outputs": [],
   "source": [
    "data = pd.concat([data_yes, data_no], ignore_index = True, axis = 0)"
   ]
  },
  {
   "cell_type": "code",
   "execution_count": 182,
   "metadata": {},
   "outputs": [],
   "source": [
    "data = data.values"
   ]
  },
  {
   "cell_type": "code",
   "execution_count": 183,
   "metadata": {},
   "outputs": [],
   "source": [
    "targets = pd.concat([pd.DataFrame(y_yes), pd.DataFrame(y_no)], ignore_index = True, axis = 0)"
   ]
  },
  {
   "cell_type": "code",
   "execution_count": 184,
   "metadata": {},
   "outputs": [],
   "source": [
    "targets = targets.values"
   ]
  },
  {
   "cell_type": "code",
   "execution_count": 185,
   "metadata": {},
   "outputs": [],
   "source": [
    "from sklearn import model_selection"
   ]
  },
  {
   "cell_type": "code",
   "execution_count": 186,
   "metadata": {},
   "outputs": [],
   "source": [
    "train_data, test_data, train_labels, test_labels = model_selection.train_test_split(data, targets, shuffle=True, \n",
    "                                                                                    test_size = 0.25,\n",
    "                                                                                    random_state = 1)"
   ]
  },
  {
   "cell_type": "markdown",
   "metadata": {},
   "source": [
    "### Модель нейросети\n",
    "Составляется конфигурация нейросети:\n",
    "\n",
    "- Распределительный (входной) слой из 10-ти нейронов\n",
    "\n",
    "- 1-ый рабочий (скрытый) слой из 1– 2-х нейронов (выбирается опытным путем в зависимости от ошибок обнаружителя)\n",
    "\n",
    "- Выходной слой из 2-х нейронов (один нейрон отвечает за гипотезу «есть сигнал», второй – за гипотезу «нет сигнала»).\n",
    "\n",
    "- Функции активации: для скрытого слоя – сигмоидная, для выходного слоя – пороговая."
   ]
  },
  {
   "cell_type": "code",
   "execution_count": 187,
   "metadata": {},
   "outputs": [],
   "source": [
    "import torch\n",
    "from torch.nn import Linear, Sigmoid"
   ]
  },
  {
   "cell_type": "code",
   "execution_count": 188,
   "metadata": {},
   "outputs": [],
   "source": [
    "num_features = train_data.shape[1]\n",
    "N = 2"
   ]
  },
  {
   "cell_type": "code",
   "execution_count": 189,
   "metadata": {},
   "outputs": [],
   "source": [
    "mlp = torch.nn.Sequential(\n",
    "    Linear(num_features, out_features=N), # распределительный слой\n",
    "    Linear(N, out_features=N), # первый скрытый слой\n",
    "    torch.nn.Sigmoid(), # сигмоидная активация\n",
    "    Linear(N, out_features=N), # выходной слой\n",
    "    torch.nn.Softmax() # активация softmax\n",
    ")"
   ]
  },
  {
   "cell_type": "markdown",
   "metadata": {},
   "source": [
    "Далее следует техническая часть работы с библиотекой pytorch:"
   ]
  },
  {
   "cell_type": "code",
   "execution_count": 190,
   "metadata": {},
   "outputs": [],
   "source": [
    "train_data = torch.autograd.Variable(torch.FloatTensor(train_data))\n",
    "train_labels = torch.autograd.Variable(torch.LongTensor(train_labels.astype(np.int64)))\n",
    "\n",
    "test_data = torch.autograd.Variable(torch.FloatTensor(test_data))\n",
    "test_labels = torch.autograd.Variable(torch.LongTensor(test_labels.astype(np.int64)))"
   ]
  },
  {
   "cell_type": "markdown",
   "metadata": {},
   "source": [
    "Вручную напишем цикл обучнения сети:"
   ]
  },
  {
   "cell_type": "code",
   "execution_count": 191,
   "metadata": {},
   "outputs": [
    {
     "name": "stdout",
     "output_type": "stream",
     "text": [
      "0 1087.644287109375\n",
      "10 1050.05810546875\n",
      "20 1025.6412353515625\n",
      "30 987.7658081054688\n",
      "40 933.3785400390625\n",
      "50 877.3837280273438\n",
      "60 823.81689453125\n",
      "70 773.9346313476562\n",
      "80 730.84716796875\n",
      "90 696.3748168945312\n",
      "100 669.4976806640625\n",
      "110 649.05908203125\n",
      "120 633.5108032226562\n",
      "130 621.5171508789062\n",
      "140 612.0723876953125\n",
      "150 604.4781494140625\n",
      "160 598.2556762695312\n",
      "170 593.0692749023438\n",
      "180 588.6843872070312\n",
      "190 584.93017578125\n",
      "200 581.6838989257812\n",
      "210 578.8505859375\n",
      "220 576.3583984375\n",
      "230 574.151123046875\n",
      "240 572.1832275390625\n",
      "250 570.4195556640625\n",
      "260 568.8323364257812\n",
      "270 567.3950805664062\n",
      "280 566.0899047851562\n",
      "290 564.8984985351562\n",
      "300 563.8096923828125\n",
      "310 562.807861328125\n",
      "320 561.8859252929688\n",
      "330 561.0333251953125\n",
      "340 560.2437744140625\n",
      "350 559.5099487304688\n",
      "360 558.8262939453125\n",
      "370 558.1856689453125\n",
      "380 557.5830688476562\n",
      "390 557.0174560546875\n",
      "400 556.482666015625\n",
      "410 555.9743041992188\n",
      "420 555.48974609375\n",
      "430 555.0317993164062\n",
      "440 554.5916748046875\n",
      "450 554.1741943359375\n",
      "460 553.7764892578125\n",
      "470 553.3992919921875\n",
      "480 553.0369873046875\n",
      "490 552.6908569335938\n"
     ]
    }
   ],
   "source": [
    "# кросс-энтропия\n",
    "loss_fn = torch.nn.CrossEntropyLoss(size_average=False)\n",
    "\n",
    "\n",
    "# шаг градиентного спуска (точнее -- метода оптимизации)\n",
    "learning_rate = 0.01  # == 1e-3\n",
    "# сам метод оптимизации нейросети (обычно лучше всего по-умолчанию рабоатет Adam)\n",
    "optimizer = torch.optim.Adam(mlp.parameters(), lr=learning_rate)\n",
    "# итерируемся num_epochs раз, здесь 500\n",
    "for t in range(500):\n",
    "    # foward_pass() -- применение нейросети \n",
    "    y_pred = mlp(train_data)\n",
    "    # выведем loss на каждом шаге, кратном 10\n",
    "    loss = loss_fn(y_pred, train_labels.reshape(-1))\n",
    "    if t%10 == 0:\n",
    "        print('{} {}'.format(t, loss.data))\n",
    "\n",
    "    #  обнуляем градиенты перед backard_pass'ом\n",
    "    \n",
    "    optimizer.zero_grad()\n",
    "\n",
    "    # backward_pass() -- вычисляем градиенты loss'а по параметрам (весам) нейросети\n",
    "    # ВНИМАНИЕ! На это шаге мы только вычисляем градиенты, но ещё не обновляем веса\n",
    "    loss.backward()\n",
    "\n",
    "    # А вот тут уже обновляем\n",
    "    optimizer.step()"
   ]
  },
  {
   "cell_type": "markdown",
   "metadata": {},
   "source": [
    "Сделаем предсказания обученной сетью на тестовой выборке:"
   ]
  },
  {
   "cell_type": "code",
   "execution_count": 192,
   "metadata": {},
   "outputs": [],
   "source": [
    "proba_pred_train = mlp(train_data)\n",
    "y_pred_train = proba_pred_train  >  0.5\n",
    "\n",
    "\n",
    "proba_pred_test = mlp(test_data)\n",
    "y_pred_test = proba_pred_test > 0.5\n"
   ]
  },
  {
   "cell_type": "markdown",
   "metadata": {},
   "source": [
    "### Оценка результатов\n",
    "\n",
    "Для оценки результатов работы сети воспользуемся confusion matrix - матрицей, где на главной диагонали стоят количества верных классификаций, а на двух оставшихся местах - ошибки типа false positive и false negative."
   ]
  },
  {
   "cell_type": "code",
   "execution_count": 193,
   "metadata": {},
   "outputs": [
    {
     "name": "stdout",
     "output_type": "stream",
     "text": [
      "Матрица ошибок на обучении:\n",
      "[[732  23]\n",
      " [ 50 695]]\n"
     ]
    }
   ],
   "source": [
    "from sklearn import metrics \n",
    "matrix_train = metrics.confusion_matrix(train_labels, y_pred_train[:,1])\n",
    "print(\"Матрица ошибок на обучении:\")\n",
    "print(matrix_train)"
   ]
  },
  {
   "cell_type": "code",
   "execution_count": 194,
   "metadata": {},
   "outputs": [
    {
     "name": "stdout",
     "output_type": "stream",
     "text": [
      "Матрица ошибок на тесте:\n",
      "[[235  10]\n",
      " [ 26 229]]\n"
     ]
    }
   ],
   "source": [
    "matrix_test = metrics.confusion_matrix(test_labels, y_pred_test[:,1])\n",
    "print(\"Матрица ошибок на тесте:\")\n",
    "print(matrix_test)"
   ]
  },
  {
   "cell_type": "markdown",
   "metadata": {},
   "source": [
    "Итак, нам удалось написать нейросеть, с хорошей точностью классифицирующую созданную нами выборку, тогда как классификация \"вручную\" взглядом на картину сигнала представляется невозможной."
   ]
  },
  {
   "cell_type": "code",
   "execution_count": null,
   "metadata": {},
   "outputs": [],
   "source": []
  }
 ],
 "metadata": {
  "kernelspec": {
   "display_name": "Python 3",
   "language": "python",
   "name": "python3"
  },
  "language_info": {
   "codemirror_mode": {
    "name": "ipython",
    "version": 3
   },
   "file_extension": ".py",
   "mimetype": "text/x-python",
   "name": "python",
   "nbconvert_exporter": "python",
   "pygments_lexer": "ipython3",
   "version": "3.7.3"
  }
 },
 "nbformat": 4,
 "nbformat_minor": 4
}
